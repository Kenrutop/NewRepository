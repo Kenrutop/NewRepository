{
  "cells": [
    {
      "cell_type": "markdown",
      "metadata": {
        "id": "view-in-github",
        "colab_type": "text"
      },
      "source": [
        "<a href=\"https://colab.research.google.com/github/Kenrutop/NewRepository/blob/master/%D0%B7%D0%B0%D0%BD%D1%8F%D1%82%D0%B8%D0%B5_2.ipynb\" target=\"_parent\"><img src=\"https://colab.research.google.com/assets/colab-badge.svg\" alt=\"Open In Colab\"/></a>"
      ]
    },
    {
      "cell_type": "markdown",
      "metadata": {
        "id": "PSlK1WD8MbP-"
      },
      "source": [
        "## Охота на мусор\n",
        "Процесс подготовки данных для дальнейшего анализа называется предобработка. Заключается она в поиске проблем, которые могут быть в данных, и в решении этих проблем.\n",
        "В информатике работает принцип GIGO (от англ. garbage in — garbage out, буквально «мусор на входе — мусор на выходе»). Это значит, что при ошибках во входных данных даже правильный алгоритм работы выдаёт неверные результаты.\n",
        "Посмотрите на этот срез данных\n",
        "\n",
        "![image.png](attachment:image.png)\n",
        "В столбце genre для одного жанра есть два названия: джаз и jazz. Если принять всё как есть, подсчёт прослушанных джазовых композиций даст два ответа — для жанра джаз и для жанра jazz, которые представляют одну и ту же сущность. Это помешает сделать правильные выводы об интересе пользователей к джазу, и может повлечь неверные решения.\n",
        "Вообще сложности с данными бывают двух видов:\n",
        "\n",
        "•\tданные содержат мусор;\n",
        "\n",
        "•\tданные корректны, но представлены в такой форме, что малопригодны для анализа.\n",
        "\n",
        "В этой теме мы раскроем базовые механизмы борьбы с часто встречаемыми проблемами. Из них самые очевидные, но в то же время самые опасные:\n",
        "\n",
        "• некорректное именование столбцов\n",
        "\n",
        "• дублирование значений\n",
        "\n",
        "• отсутствующие значения (NaN)\n",
        "\n",
        "Механизмы борьбы с ними — основа, с которой вы можете начать своё развитие как специалист по предобработке данных.\n",
        "\n",
        "**Задача**\n",
        "1. Загрузите датасет с данными из Яндекс.Музыка Вызовите метод info(), чтобы просмотреть сводку по всему набору данных.\n",
        "\n"
      ]
    },
    {
      "cell_type": "code",
      "execution_count": 2,
      "metadata": {
        "colab": {
          "base_uri": "https://localhost:8080/",
          "height": 604
        },
        "collapsed": true,
        "id": "1uCYF9JmMbQB",
        "outputId": "dfc6e8f8-8fef-4ef1-cca9-1ef0fb38b5d8"
      },
      "outputs": [
        {
          "output_type": "execute_result",
          "data": {
            "text/plain": [
              "<bound method DataFrame.info of          userID                              Track            artist  \\\n",
              "0      FFB692EC                  Kamigata To Boots  The Mass Missile   \n",
              "1      55204538        Delayed Because of Accident  Andreas Rönnberg   \n",
              "2        20EC38                  Funiculì funiculà       Mario Lanza   \n",
              "3      A3DD03C9              Dragons in the Sunset        Fire + Ice   \n",
              "4      E2DC1FAE                        Soul People        Space Echo   \n",
              "...         ...                                ...               ...   \n",
              "65074  729CBB09                            My Name            McLean   \n",
              "65075  D08D4A55  Maybe One Day (feat. Black Spade)       Blu & Exile   \n",
              "65076  C5E3A0D5                          Jalopiina               NaN   \n",
              "65077  321D0506                      Freight Train     Chas McDevitt   \n",
              "65078  3A64EF84          Tell Me Sweet Little Lies      Monica Lopez   \n",
              "\n",
              "            genre            City        time        Day  \n",
              "0            rock  Saint-Petersburg  20:28:33  Wednesday  \n",
              "1            rock            Moscow  14:07:09     Friday  \n",
              "2             pop  Saint-Petersburg  20:58:07  Wednesday  \n",
              "3            folk  Saint-Petersburg  08:37:09     Monday  \n",
              "4           dance            Moscow  08:34:34     Monday  \n",
              "...           ...               ...       ...        ...  \n",
              "65074         rnb            Moscow  13:32:28  Wednesday  \n",
              "65075         hip  Saint-Petersburg  10:00:00     Monday  \n",
              "65076  industrial            Moscow  20:09:26     Friday  \n",
              "65077        rock            Moscow  21:43:59     Friday  \n",
              "65078     country            Moscow  21:59:46     Friday  \n",
              "\n",
              "[65079 rows x 7 columns]>"
            ],
            "text/html": [
              "<div style=\"max-width:800px; border: 1px solid var(--colab-border-color);\"><style>\n",
              "      pre.function-repr-contents {\n",
              "        overflow-x: auto;\n",
              "        padding: 8px 12px;\n",
              "        max-height: 500px;\n",
              "      }\n",
              "\n",
              "      pre.function-repr-contents.function-repr-contents-collapsed {\n",
              "        cursor: pointer;\n",
              "        max-height: 100px;\n",
              "      }\n",
              "    </style>\n",
              "    <pre style=\"white-space: initial; background:\n",
              "         var(--colab-secondary-surface-color); padding: 8px 12px;\n",
              "         border-bottom: 1px solid var(--colab-border-color);\"><b>pandas.core.frame.DataFrame.info</b><br/>def info(verbose: bool | None=None, buf: WriteBuffer[str] | None=None, max_cols: int | None=None, memory_usage: bool | str | None=None, show_counts: bool | None=None) -&gt; None</pre><pre class=\"function-repr-contents function-repr-contents-collapsed\" style=\"\"><a class=\"filepath\" style=\"display:none\" href=\"#\">/usr/local/lib/python3.10/dist-packages/pandas/core/frame.py</a>Print a concise summary of a DataFrame.\n",
              "\n",
              "This method prints information about a DataFrame including\n",
              "the index dtype and columns, non-null values and memory usage.\n",
              "\n",
              "Parameters\n",
              "----------\n",
              "verbose : bool, optional\n",
              "    Whether to print the full summary. By default, the setting in\n",
              "    ``pandas.options.display.max_info_columns`` is followed.\n",
              "buf : writable buffer, defaults to sys.stdout\n",
              "    Where to send the output. By default, the output is printed to\n",
              "    sys.stdout. Pass a writable buffer if you need to further process\n",
              "    the output.\n",
              "max_cols : int, optional\n",
              "    When to switch from the verbose to the truncated output. If the\n",
              "    DataFrame has more than `max_cols` columns, the truncated output\n",
              "    is used. By default, the setting in\n",
              "    ``pandas.options.display.max_info_columns`` is used.\n",
              "memory_usage : bool, str, optional\n",
              "    Specifies whether total memory usage of the DataFrame\n",
              "    elements (including the index) should be displayed. By default,\n",
              "    this follows the ``pandas.options.display.memory_usage`` setting.\n",
              "\n",
              "    True always show memory usage. False never shows memory usage.\n",
              "    A value of &#x27;deep&#x27; is equivalent to &quot;True with deep introspection&quot;.\n",
              "    Memory usage is shown in human-readable units (base-2\n",
              "    representation). Without deep introspection a memory estimation is\n",
              "    made based in column dtype and number of rows assuming values\n",
              "    consume the same memory amount for corresponding dtypes. With deep\n",
              "    memory introspection, a real memory usage calculation is performed\n",
              "    at the cost of computational resources. See the\n",
              "    :ref:`Frequently Asked Questions &lt;df-memory-usage&gt;` for more\n",
              "    details.\n",
              "show_counts : bool, optional\n",
              "    Whether to show the non-null counts. By default, this is shown\n",
              "    only if the DataFrame is smaller than\n",
              "    ``pandas.options.display.max_info_rows`` and\n",
              "    ``pandas.options.display.max_info_columns``. A value of True always\n",
              "    shows the counts, and False never shows the counts.\n",
              "\n",
              "Returns\n",
              "-------\n",
              "None\n",
              "    This method prints a summary of a DataFrame and returns None.\n",
              "\n",
              "See Also\n",
              "--------\n",
              "DataFrame.describe: Generate descriptive statistics of DataFrame\n",
              "    columns.\n",
              "DataFrame.memory_usage: Memory usage of DataFrame columns.\n",
              "\n",
              "Examples\n",
              "--------\n",
              "&gt;&gt;&gt; int_values = [1, 2, 3, 4, 5]\n",
              "&gt;&gt;&gt; text_values = [&#x27;alpha&#x27;, &#x27;beta&#x27;, &#x27;gamma&#x27;, &#x27;delta&#x27;, &#x27;epsilon&#x27;]\n",
              "&gt;&gt;&gt; float_values = [0.0, 0.25, 0.5, 0.75, 1.0]\n",
              "&gt;&gt;&gt; df = pd.DataFrame({&quot;int_col&quot;: int_values, &quot;text_col&quot;: text_values,\n",
              "...                   &quot;float_col&quot;: float_values})\n",
              "&gt;&gt;&gt; df\n",
              "    int_col text_col  float_col\n",
              "0        1    alpha       0.00\n",
              "1        2     beta       0.25\n",
              "2        3    gamma       0.50\n",
              "3        4    delta       0.75\n",
              "4        5  epsilon       1.00\n",
              "\n",
              "Prints information of all columns:\n",
              "\n",
              "&gt;&gt;&gt; df.info(verbose=True)\n",
              "&lt;class &#x27;pandas.core.frame.DataFrame&#x27;&gt;\n",
              "RangeIndex: 5 entries, 0 to 4\n",
              "Data columns (total 3 columns):\n",
              " #   Column     Non-Null Count  Dtype\n",
              "---  ------     --------------  -----\n",
              " 0   int_col    5 non-null      int64\n",
              " 1   text_col   5 non-null      object\n",
              " 2   float_col  5 non-null      float64\n",
              "dtypes: float64(1), int64(1), object(1)\n",
              "memory usage: 248.0+ bytes\n",
              "\n",
              "Prints a summary of columns count and its dtypes but not per column\n",
              "information:\n",
              "\n",
              "&gt;&gt;&gt; df.info(verbose=False)\n",
              "&lt;class &#x27;pandas.core.frame.DataFrame&#x27;&gt;\n",
              "RangeIndex: 5 entries, 0 to 4\n",
              "Columns: 3 entries, int_col to float_col\n",
              "dtypes: float64(1), int64(1), object(1)\n",
              "memory usage: 248.0+ bytes\n",
              "\n",
              "Pipe output of DataFrame.info to buffer instead of sys.stdout, get\n",
              "buffer content and writes to a text file:\n",
              "\n",
              "&gt;&gt;&gt; import io\n",
              "&gt;&gt;&gt; buffer = io.StringIO()\n",
              "&gt;&gt;&gt; df.info(buf=buffer)\n",
              "&gt;&gt;&gt; s = buffer.getvalue()\n",
              "&gt;&gt;&gt; with open(&quot;df_info.txt&quot;, &quot;w&quot;,\n",
              "...           encoding=&quot;utf-8&quot;) as f:  # doctest: +SKIP\n",
              "...     f.write(s)\n",
              "260\n",
              "\n",
              "The `memory_usage` parameter allows deep introspection mode, specially\n",
              "useful for big DataFrames and fine-tune memory optimization:\n",
              "\n",
              "&gt;&gt;&gt; random_strings_array = np.random.choice([&#x27;a&#x27;, &#x27;b&#x27;, &#x27;c&#x27;], 10 ** 6)\n",
              "&gt;&gt;&gt; df = pd.DataFrame({\n",
              "...     &#x27;column_1&#x27;: np.random.choice([&#x27;a&#x27;, &#x27;b&#x27;, &#x27;c&#x27;], 10 ** 6),\n",
              "...     &#x27;column_2&#x27;: np.random.choice([&#x27;a&#x27;, &#x27;b&#x27;, &#x27;c&#x27;], 10 ** 6),\n",
              "...     &#x27;column_3&#x27;: np.random.choice([&#x27;a&#x27;, &#x27;b&#x27;, &#x27;c&#x27;], 10 ** 6)\n",
              "... })\n",
              "&gt;&gt;&gt; df.info()\n",
              "&lt;class &#x27;pandas.core.frame.DataFrame&#x27;&gt;\n",
              "RangeIndex: 1000000 entries, 0 to 999999\n",
              "Data columns (total 3 columns):\n",
              " #   Column    Non-Null Count    Dtype\n",
              "---  ------    --------------    -----\n",
              " 0   column_1  1000000 non-null  object\n",
              " 1   column_2  1000000 non-null  object\n",
              " 2   column_3  1000000 non-null  object\n",
              "dtypes: object(3)\n",
              "memory usage: 22.9+ MB\n",
              "\n",
              "&gt;&gt;&gt; df.info(memory_usage=&#x27;deep&#x27;)\n",
              "&lt;class &#x27;pandas.core.frame.DataFrame&#x27;&gt;\n",
              "RangeIndex: 1000000 entries, 0 to 999999\n",
              "Data columns (total 3 columns):\n",
              " #   Column    Non-Null Count    Dtype\n",
              "---  ------    --------------    -----\n",
              " 0   column_1  1000000 non-null  object\n",
              " 1   column_2  1000000 non-null  object\n",
              " 2   column_3  1000000 non-null  object\n",
              "dtypes: object(3)\n",
              "memory usage: 165.9 MB</pre>\n",
              "      <script>\n",
              "      if (google.colab.kernel.accessAllowed && google.colab.files && google.colab.files.view) {\n",
              "        for (const element of document.querySelectorAll('.filepath')) {\n",
              "          element.style.display = 'block'\n",
              "          element.onclick = (event) => {\n",
              "            event.preventDefault();\n",
              "            event.stopPropagation();\n",
              "            google.colab.files.view(element.textContent, 3345);\n",
              "          };\n",
              "        }\n",
              "      }\n",
              "      for (const element of document.querySelectorAll('.function-repr-contents')) {\n",
              "        element.onclick = (event) => {\n",
              "          event.preventDefault();\n",
              "          event.stopPropagation();\n",
              "          element.classList.toggle('function-repr-contents-collapsed');\n",
              "        };\n",
              "      }\n",
              "      </script>\n",
              "      </div>"
            ]
          },
          "metadata": {},
          "execution_count": 2
        }
      ],
      "source": [
        "import io, requests\n",
        "import pandas as pd\n",
        "from io import StringIO\n",
        "\n",
        "url = \"https://raw.githubusercontent.com/emok1d/pandas/main/lab3/yandex_music.csv\"\n",
        "response = requests.get(url)\n",
        "yandex_music = StringIO(response.text)\n",
        "df = pd.read_csv(yandex_music)\n",
        "df.info"
      ]
    },
    {
      "cell_type": "markdown",
      "metadata": {
        "id": "wLPwCrM6MbQD"
      },
      "source": [
        "Метод info() возвращает названия столбцов таблицы и сведения о типах данных в ней. Итак, наши проблемы:\n",
        "\n",
        "•\tВ начале названия одного столбца явно есть несколько лишних пробелов. От них нужно избавиться.\n",
        "\n",
        "•\tНазвание из двух слов содержит пробел, который необходимо заменить на символ нижнего подчёркивания.\n",
        "\n",
        "•\tНазвания должны быть на одном языке и набраны в одном регистре, чтобы не заучивать уникальный формат для каждого столбца.\n",
        "\n",
        "•\tКаждый столбец содержит определённый признак — крайне желательно, чтобы название столбца отражало в краткой форме, какая информация в нём содержится.\n",
        "\n",
        "Рассмотрим  таблицу с расстояниями (в миллионах километров) от Земли до небесных тел.\n"
      ]
    },
    {
      "cell_type": "code",
      "execution_count": null,
      "metadata": {
        "id": "7DETjepNMbQE"
      },
      "outputs": [],
      "source": [
        "import pandas as pd\n",
        "measurements = [['Солнце',146,152], # Измерения хранятся в списке списков\n",
        "              ['Луна',0.36, 0.41], # measurements (англ. measurement, «измерение»).\n",
        "              ['Меркурий',82, 217],\n",
        "              ['Венера',38, 261],\n",
        "              ['Марс',56,401],\n",
        "              ['Юпитер',588, 968],\n",
        "              ['Сатурн',1195, 1660],\n",
        "              ['Уран',2750, 3150],\n",
        "              ['Нептун', 4300, 4700],\n",
        "              ['Комета Галлея', 6, 5400]]\n",
        "# Названия столбцов хранятся в переменной header.\n",
        "header = ['Небесные тела ','MIN', 'MAX']\n",
        "# Сохраним структуру данных в переменной celestial (англ. celestial, «небесный»).\n",
        "celestial = pd.DataFrame(data = measurements, columns = header)"
      ]
    },
    {
      "cell_type": "markdown",
      "metadata": {
        "id": "ey1j2gEjMbQE"
      },
      "source": [
        "Заметно, что столбцы называются на разных языках. Название Небесные тела содержит опасный пробел в конце, и слова этого названия разделены пробелом.\n",
        "\n",
        "Символы за пределами базовой латиницы — недруги аналитика; от них надо избавляться в первую очередь. Правильно будет переименовать «Небесные тела» в celestial_bodies. MIN и MAX уже написаны латиницей, но эти сокращения мало говорят о том, что за цифры записаны в соответствующих столбцах. Хорошее решение — назвать их min_distance и max_distance. Так сразу понятно, что это минимальные и максимальные расстояния.\n",
        "\n",
        "Чтобы изменить названия столбцов, воспользуйтесь методом set_axis(). Он принимает три аргумента:\n",
        "\n",
        "•\tcписок с новыми названиями столбцов;\n",
        "\n",
        "•\taxis — ось, которой новые названия присваиваются: 'index', если они даются строкам, и 'columns', если это список новых названий столбцов;\n",
        "\n",
        "•\tinplace. Принимает значения True либо False. В первом случае метод set_axis() перестраивает структуру данных так, что она замещает прежнюю в переменной с тем же именем.\n",
        "\n",
        "![image.png](attachment:image.png)\n",
        "\n"
      ]
    },
    {
      "cell_type": "code",
      "execution_count": null,
      "metadata": {
        "id": "Qds3qSNRMbQF",
        "outputId": "d362912d-38e1-4075-9299-90efe115a6d2"
      },
      "outputs": [
        {
          "name": "stdout",
          "output_type": "stream",
          "text": [
            "  celestial_bodies  min_distance  max_distance\n",
            "0           Солнце        146.00        152.00\n",
            "1             Луна          0.36          0.41\n",
            "2         Меркурий         82.00        217.00\n",
            "3           Венера         38.00        261.00\n",
            "4             Марс         56.00        401.00\n",
            "5           Юпитер        588.00        968.00\n",
            "6           Сатурн       1195.00       1660.00\n",
            "7             Уран       2750.00       3150.00\n",
            "8           Нептун       4300.00       4700.00\n",
            "9    Комета Галлея          6.00       5400.00\n"
          ]
        }
      ],
      "source": [
        "#Заменим названия столбцов таблицы с небесными телами.\n",
        "celestial.set_axis(['celestial_bodies','min_distance','max_distance'], axis = 'columns', inplace = True)\n",
        "#Проверим результат:\n",
        "\n",
        "print(celestial)\n"
      ]
    },
    {
      "cell_type": "markdown",
      "metadata": {
        "id": "NQ9clq0JMbQG"
      },
      "source": [
        "Готово! Теперь эта таблица годится для анализа. Давайте проверим названия столбцов в данных Яндекс.Музыки.\n",
        "\n",
        "**Задача**   \n",
        "1.\n",
        "Выведите список столбцов.\n",
        "\n",
        "2.\n",
        "Подготовьте список new_names с новыми именами для столбцов.\n",
        "\n",
        "•\tuser_id → user_id\n",
        "\n",
        "•\ttotal play → total_play_seconds\n",
        "\n",
        "•\tArtist → artist_name\n",
        "\n",
        "•\tgenre → genre_name\n",
        "\n",
        "•\ttrack → track_name\n",
        "\n",
        "3.\n",
        "Переименуем столбцы таблицы, которая хранится в переменной df.\n",
        "Вызовите метод set_axis() и передайте ему список new_names, а значением аргумента inplace установите True.\n",
        "\n",
        "4.\n",
        "Проверьте, что получилось, запросив для нашей структуры данных df атрибут columns.\n",
        "\n"
      ]
    },
    {
      "cell_type": "code",
      "execution_count": null,
      "metadata": {
        "id": "NF0X6kXlMbQG"
      },
      "outputs": [],
      "source": [
        "#Youre code is here"
      ]
    },
    {
      "cell_type": "markdown",
      "metadata": {
        "id": "00EYFulWMbQG"
      },
      "source": [
        "## Обработка пропущенных значений\n",
        "\n",
        "Замены пропущенных значений в DataFrame бывают трёх видов:\n",
        "\n",
        "1) Ожидаемые: None или NaN. None — это эквивалент null в других языках программирования: особое значение, указывающее, что в этой ячейке таблицы никакого значения нет. None относится к NoneType. NaN говорит о том, что в ячейке находится «не число». Основное отличие NaN в том, что его можно использовать в математических операциях, так как по типу это число с плавающей запятой.\n",
        "\n",
        "2) Странные: плейсхолдеры (тексты-заполнители) какого-нибудь общепринятого стандарта, иногда неизвестного вам, но которого придерживаются составители. Чаще всего это n/a, na, NA, и N.N. либо NN.\n",
        "\n",
        "3) Неожиданные: например, разработчики решили, что пустые значения в таблице будут заполняться знаками вопроса или нулями. В лучшем случае этот факт укажут в документации, в худшем – придётся просматривать данные самостоятельно. Если какой-нибудь спецсимвол или число встречаются часто, и этому нет внятного объяснения, то высока вероятность, что так передаются пропущенные значения.\n",
        "\n",
        "Но будьте осторожны: иногда нули — это действительно нули, как в наборе данных Яндекс.Музыкка, где ноль показывает, что трек был пропущен (его слушали 0 секунд).\n"
      ]
    },
    {
      "cell_type": "markdown",
      "metadata": {
        "id": "jxh3WZZbMbQH"
      },
      "source": [
        "Рассмотрим методы борьбы с пропущенными значениями на примере данных ВОЗ о заболеваемости холерой в 2017 году:"
      ]
    },
    {
      "cell_type": "code",
      "execution_count": null,
      "metadata": {
        "id": "2DdfDpR_MbQH"
      },
      "outputs": [],
      "source": [
        "cholera=pd.read_csv('D:/My Doc/сholera.csv', sep=';')"
      ]
    },
    {
      "cell_type": "code",
      "execution_count": null,
      "metadata": {
        "id": "ESRioQ-6MbQI",
        "outputId": "ac3b3af9-ec6f-4e01-e6a2-059626e22c52"
      },
      "outputs": [
        {
          "name": "stdout",
          "output_type": "stream",
          "text": [
            "     region                   country  total_cases  imported_cases  deaths  \\\n",
            "0      Азия                Афганистан         33.0             0.0     1.0   \n",
            "1      Азия                     Индия        385.0             NaN     3.0   \n",
            "2      Азия                      Иран        634.0           625.0     4.0   \n",
            "3      Азия                     Йемен    1032481.0             0.0  2261.0   \n",
            "4      Азия                     Китай         14.0             NaN     0.0   \n",
            "5      Азия                     Катар          5.0             5.0     0.0   \n",
            "6      Азия                  Малайзия          2.0             0.0     0.0   \n",
            "7      Азия                     Непал          7.0             NaN     0.0   \n",
            "8      Азия                       ОАЭ         12.0            12.0     0.0   \n",
            "9      Азия         Саудовская Аравия          5.0             5.0     0.0   \n",
            "10     Азия                  Сингапур          3.0             3.0     0.0   \n",
            "11     Азия                   Таиланд          8.0             0.0     0.0   \n",
            "12     Азия                 Филиппины        134.0             NaN     2.0   \n",
            "13     Азия               Южная Корея          5.0             5.0     0.0   \n",
            "14     Азия                    Япония          7.0             5.0     0.0   \n",
            "15  Америка                     Гаити      13681.0             0.0   159.0   \n",
            "16  Америка  Доминиканская Республика        122.0             0.0     4.0   \n",
            "17  Америка                    Канада          4.0             3.0     0.0   \n",
            "18  Америка                       США         11.0             9.0     0.0   \n",
            "19   Африка                Все страны     179835.0             NaN  3220.0   \n",
            "20   Европа                Все страны          NaN             NaN     NaN   \n",
            "21  Океания                 Австралия          3.0             3.0     0.0   \n",
            "22      Мир                Все страны    1227391.0           675.0  5654.0   \n",
            "\n",
            "    case_fatality_rate                              notes  \n",
            "0                  3.0                                NaN  \n",
            "1                  0.7                                NaN  \n",
            "2                  0.6                                NaN  \n",
            "3                  0.2                                NaN  \n",
            "4                  0.0                                NaN  \n",
            "5                  0.0                                NaN  \n",
            "6                  0.0                                NaN  \n",
            "7                  0.0                                NaN  \n",
            "8                  0.0                                NaN  \n",
            "9                  0.0                                NaN  \n",
            "10                 0.0                                NaN  \n",
            "11                 0.0                                NaN  \n",
            "12                 1.5                                NaN  \n",
            "13                 0.0                                NaN  \n",
            "14                 0.0                                NaN  \n",
            "15                 1.2                                NaN  \n",
            "16                 3.3                                NaN  \n",
            "17                 0.0                                NaN  \n",
            "18                 0.0                                NaN  \n",
            "19                 1.8  нет информации о завозных случаях  \n",
            "20                 NaN          нет сообщений за 2017 год  \n",
            "21                 0.0                                NaN  \n",
            "22                 0.5                                NaN  \n"
          ]
        }
      ],
      "source": [
        "print(cholera)"
      ]
    },
    {
      "cell_type": "markdown",
      "metadata": {
        "id": "yx8vK0Q6MbQI"
      },
      "source": [
        "Для разных регионов (столбец 'region') и стран ('country') указано общее число случаев заболевания холерой\n",
        "('total_cases'), в том числе завозные случаи ('imported_cases') и смертельные ('deaths').\n",
        "\n",
        "Всё это целые числа, поскольку данные приведены с точностью до человека.\n",
        "Источник: Всемирная организация здравоохранения, Weekly Epidemiological Record), 21 September 2018, vol. 93, 38, pp. 489–500.\n",
        "\n",
        "Посчитать в каждом столбце отсутствующие значения можно методом **.isnull()**.\n",
        "Если значение элемента не существует, **.isnull()** возвращает True, а иначе — False.\n",
        "Суммируют эти True вызовом метода **sum()**, который в этом случае возвращает общее число элементов без\n",
        "определённых значений.\n"
      ]
    },
    {
      "cell_type": "code",
      "execution_count": null,
      "metadata": {
        "id": "H3urLQNbMbQI",
        "outputId": "87fe894b-6344-4332-e944-a816b8da887a"
      },
      "outputs": [
        {
          "name": "stdout",
          "output_type": "stream",
          "text": [
            "region                 0\n",
            "country                0\n",
            "total_cases            1\n",
            "imported_cases         6\n",
            "deaths                 1\n",
            "case_fatality_rate     1\n",
            "notes                 21\n",
            "dtype: int64\n"
          ]
        }
      ],
      "source": [
        "print(cholera.isnull().sum())"
      ]
    },
    {
      "cell_type": "markdown",
      "metadata": {
        "id": "1xzAMzI-MbQJ"
      },
      "source": [
        "Также подойдёт метод **isna()**, подсчитывающий пустые значения. В таблице по холере пропущенные значения качественные, так что этот метод отыщет их все."
      ]
    },
    {
      "cell_type": "code",
      "execution_count": null,
      "metadata": {
        "id": "-Z9iOxorMbQJ",
        "outputId": "a6c2c172-e43e-4883-82b6-baec6d6edd16"
      },
      "outputs": [
        {
          "name": "stdout",
          "output_type": "stream",
          "text": [
            "region                 0\n",
            "country                0\n",
            "total_cases            1\n",
            "imported_cases         6\n",
            "deaths                 1\n",
            "case_fatality_rate     1\n",
            "notes                 21\n",
            "dtype: int64\n"
          ]
        }
      ],
      "source": [
        "print(cholera.isna().sum())"
      ]
    },
    {
      "cell_type": "markdown",
      "metadata": {
        "id": "S6IDR-V1MbQJ"
      },
      "source": [
        "Метод борьбы с пропущенными значениями, который вы выберете, должен учитывать интересы решения конечной задачи бизнеса. В целом есть два пути: заполнить пропущенные значения на основе имеющихся данных или удалить все строки с пропущенными значениями."
      ]
    },
    {
      "cell_type": "markdown",
      "metadata": {
        "id": "vchYJk4PMbQK"
      },
      "source": [
        "Бизнес разрывается между двумя решениями: как потратить не слишком много времени и как не упустить данные, которые обычно чего-то стоят.\n",
        "\n",
        "Если сейчас пойти по пути удаления всех строк, где есть пропущенные значения, можно потерять важные данные, например, в Африке было зафиксировано 179835 случаев заболевания, но ни одного завозного случая (это сейчас отмечено NaN). Удалив эту строку, мы потеряем важные данные для статистики.\n",
        "\n",
        "Другая ситуация с Европой. Вся строка состоит из пропущенных значений. Примечание сообщает, что в 2017 году европейцы холерой не болели. Значит, строку можно удалить и это никак не повлияет на результат.\n",
        "Чтобы не лишиться строк с важными данными, заполним значения NaN в столбце **'imported_cases'** нулями.\n",
        "Для этого лучше всего использовать метод **fillna()**, где в качестве аргумента выступает заменитель отсутствующих значений.\n",
        "\n",
        "![image.png](attachment:image.png)\n",
        "\n",
        "\n"
      ]
    },
    {
      "cell_type": "code",
      "execution_count": null,
      "metadata": {
        "id": "BiIqBLYzMbQK",
        "outputId": "3bb11ada-2944-46d1-aeea-f6a142680a74"
      },
      "outputs": [
        {
          "name": "stdout",
          "output_type": "stream",
          "text": [
            "     region                   country  total_cases  imported_cases  deaths  \\\n",
            "0      Азия                Афганистан         33.0             0.0     1.0   \n",
            "1      Азия                     Индия        385.0             0.0     3.0   \n",
            "2      Азия                      Иран        634.0           625.0     4.0   \n",
            "3      Азия                     Йемен    1032481.0             0.0  2261.0   \n",
            "4      Азия                     Китай         14.0             0.0     0.0   \n",
            "5      Азия                     Катар          5.0             5.0     0.0   \n",
            "6      Азия                  Малайзия          2.0             0.0     0.0   \n",
            "7      Азия                     Непал          7.0             0.0     0.0   \n",
            "8      Азия                       ОАЭ         12.0            12.0     0.0   \n",
            "9      Азия         Саудовская Аравия          5.0             5.0     0.0   \n",
            "10     Азия                  Сингапур          3.0             3.0     0.0   \n",
            "11     Азия                   Таиланд          8.0             0.0     0.0   \n",
            "12     Азия                 Филиппины        134.0             0.0     2.0   \n",
            "13     Азия               Южная Корея          5.0             5.0     0.0   \n",
            "14     Азия                    Япония          7.0             5.0     0.0   \n",
            "15  Америка                     Гаити      13681.0             0.0   159.0   \n",
            "16  Америка  Доминиканская Республика        122.0             0.0     4.0   \n",
            "17  Америка                    Канада          4.0             3.0     0.0   \n",
            "18  Америка                       США         11.0             9.0     0.0   \n",
            "19   Африка                Все страны     179835.0             0.0  3220.0   \n",
            "20   Европа                Все страны          NaN             0.0     NaN   \n",
            "21  Океания                 Австралия          3.0             3.0     0.0   \n",
            "22      Мир                Все страны    1227391.0           675.0  5654.0   \n",
            "\n",
            "    case_fatality_rate                              notes  \n",
            "0                  3.0                                NaN  \n",
            "1                  0.7                                NaN  \n",
            "2                  0.6                                NaN  \n",
            "3                  0.2                                NaN  \n",
            "4                  0.0                                NaN  \n",
            "5                  0.0                                NaN  \n",
            "6                  0.0                                NaN  \n",
            "7                  0.0                                NaN  \n",
            "8                  0.0                                NaN  \n",
            "9                  0.0                                NaN  \n",
            "10                 0.0                                NaN  \n",
            "11                 0.0                                NaN  \n",
            "12                 1.5                                NaN  \n",
            "13                 0.0                                NaN  \n",
            "14                 0.0                                NaN  \n",
            "15                 1.2                                NaN  \n",
            "16                 3.3                                NaN  \n",
            "17                 0.0                                NaN  \n",
            "18                 0.0                                NaN  \n",
            "19                 1.8  нет информации о завозных случаях  \n",
            "20                 NaN          нет сообщений за 2017 год  \n",
            "21                 0.0                                NaN  \n",
            "22                 0.5                                NaN  \n"
          ]
        }
      ],
      "source": [
        "cholera['imported_cases']=cholera['imported_cases'].fillna(0)\n",
        "print(cholera)"
      ]
    },
    {
      "cell_type": "markdown",
      "metadata": {
        "id": "AINfuQcBMbQK"
      },
      "source": [
        "От строк с нулевыми значениями избавляются методом **dropna()**. Он удаляет любую строку, где есть хоть одно отсутствующее значение.\n",
        "\n",
        "У этого метода есть аргументы:\n",
        "\n",
        "1.\t**subset = [ ]**. Его значением указывают названия столбцов, где нужно искать пропуски.\n",
        "\n",
        "2.\tУже знакомый нам **inplace**.\n",
        "\n",
        "![image.png](attachment:image.png)\n"
      ]
    },
    {
      "cell_type": "code",
      "execution_count": null,
      "metadata": {
        "id": "-pl88UTyMbQL",
        "outputId": "dc29d15c-a5a8-491e-c584-f7205ab85d1e"
      },
      "outputs": [
        {
          "name": "stdout",
          "output_type": "stream",
          "text": [
            "     region                   country  total_cases  imported_cases  deaths  \\\n",
            "0      Азия                Афганистан         33.0             0.0     1.0   \n",
            "1      Азия                     Индия        385.0             0.0     3.0   \n",
            "2      Азия                      Иран        634.0           625.0     4.0   \n",
            "3      Азия                     Йемен    1032481.0             0.0  2261.0   \n",
            "4      Азия                     Китай         14.0             0.0     0.0   \n",
            "5      Азия                     Катар          5.0             5.0     0.0   \n",
            "6      Азия                  Малайзия          2.0             0.0     0.0   \n",
            "7      Азия                     Непал          7.0             0.0     0.0   \n",
            "8      Азия                       ОАЭ         12.0            12.0     0.0   \n",
            "9      Азия         Саудовская Аравия          5.0             5.0     0.0   \n",
            "10     Азия                  Сингапур          3.0             3.0     0.0   \n",
            "11     Азия                   Таиланд          8.0             0.0     0.0   \n",
            "12     Азия                 Филиппины        134.0             0.0     2.0   \n",
            "13     Азия               Южная Корея          5.0             5.0     0.0   \n",
            "14     Азия                    Япония          7.0             5.0     0.0   \n",
            "15  Америка                     Гаити      13681.0             0.0   159.0   \n",
            "16  Америка  Доминиканская Республика        122.0             0.0     4.0   \n",
            "17  Америка                    Канада          4.0             3.0     0.0   \n",
            "18  Америка                       США         11.0             9.0     0.0   \n",
            "19   Африка                Все страны     179835.0             0.0  3220.0   \n",
            "21  Океания                 Австралия          3.0             3.0     0.0   \n",
            "22      Мир                Все страны    1227391.0           675.0  5654.0   \n",
            "\n",
            "    case_fatality_rate  \n",
            "0                  3.0  \n",
            "1                  0.7  \n",
            "2                  0.6  \n",
            "3                  0.2  \n",
            "4                  0.0  \n",
            "5                  0.0  \n",
            "6                  0.0  \n",
            "7                  0.0  \n",
            "8                  0.0  \n",
            "9                  0.0  \n",
            "10                 0.0  \n",
            "11                 0.0  \n",
            "12                 1.5  \n",
            "13                 0.0  \n",
            "14                 0.0  \n",
            "15                 1.2  \n",
            "16                 3.3  \n",
            "17                 0.0  \n",
            "18                 0.0  \n",
            "19                 1.8  \n",
            "21                 0.0  \n",
            "22                 0.5  \n"
          ]
        }
      ],
      "source": [
        "cholera.dropna(subset=['total_cases', 'deaths'], inplace=True)\n",
        "print(cholera)"
      ]
    },
    {
      "cell_type": "markdown",
      "metadata": {
        "id": "ijd5i66KMbQL"
      },
      "source": [
        "Теперь удалим правый столбец с пропущенными значениями.\n",
        "\n",
        "Снова вызываем метод **dropna()**. Как и **set_axis()**, он имеет ещё и аргумент **axis**. Если этому аргументу присвоить значение **'columns'**, он удалит любой столбец, где есть хоть один пропуск.\n",
        "\n",
        "![image.png](attachment:image.png)\n"
      ]
    },
    {
      "cell_type": "code",
      "execution_count": null,
      "metadata": {
        "id": "3M5pCLOeMbQL",
        "outputId": "48122095-b732-425c-ed28-7213e4c3fa8a"
      },
      "outputs": [
        {
          "name": "stdout",
          "output_type": "stream",
          "text": [
            "     region                   country  total_cases  imported_cases  deaths  \\\n",
            "0      Азия                Афганистан         33.0             0.0     1.0   \n",
            "1      Азия                     Индия        385.0             0.0     3.0   \n",
            "2      Азия                      Иран        634.0           625.0     4.0   \n",
            "3      Азия                     Йемен    1032481.0             0.0  2261.0   \n",
            "4      Азия                     Китай         14.0             0.0     0.0   \n",
            "5      Азия                     Катар          5.0             5.0     0.0   \n",
            "6      Азия                  Малайзия          2.0             0.0     0.0   \n",
            "7      Азия                     Непал          7.0             0.0     0.0   \n",
            "8      Азия                       ОАЭ         12.0            12.0     0.0   \n",
            "9      Азия         Саудовская Аравия          5.0             5.0     0.0   \n",
            "10     Азия                  Сингапур          3.0             3.0     0.0   \n",
            "11     Азия                   Таиланд          8.0             0.0     0.0   \n",
            "12     Азия                 Филиппины        134.0             0.0     2.0   \n",
            "13     Азия               Южная Корея          5.0             5.0     0.0   \n",
            "14     Азия                    Япония          7.0             5.0     0.0   \n",
            "15  Америка                     Гаити      13681.0             0.0   159.0   \n",
            "16  Америка  Доминиканская Республика        122.0             0.0     4.0   \n",
            "17  Америка                    Канада          4.0             3.0     0.0   \n",
            "18  Америка                       США         11.0             9.0     0.0   \n",
            "19   Африка                Все страны     179835.0             0.0  3220.0   \n",
            "21  Океания                 Австралия          3.0             3.0     0.0   \n",
            "22      Мир                Все страны    1227391.0           675.0  5654.0   \n",
            "\n",
            "    case_fatality_rate  \n",
            "0                  3.0  \n",
            "1                  0.7  \n",
            "2                  0.6  \n",
            "3                  0.2  \n",
            "4                  0.0  \n",
            "5                  0.0  \n",
            "6                  0.0  \n",
            "7                  0.0  \n",
            "8                  0.0  \n",
            "9                  0.0  \n",
            "10                 0.0  \n",
            "11                 0.0  \n",
            "12                 1.5  \n",
            "13                 0.0  \n",
            "14                 0.0  \n",
            "15                 1.2  \n",
            "16                 3.3  \n",
            "17                 0.0  \n",
            "18                 0.0  \n",
            "19                 1.8  \n",
            "21                 0.0  \n",
            "22                 0.5  \n"
          ]
        }
      ],
      "source": [
        "cholera.dropna(axis = 'columns', inplace = True)\n",
        "print(cholera)\n"
      ]
    },
    {
      "cell_type": "markdown",
      "metadata": {
        "id": "661-tFmyMbQL"
      },
      "source": [
        "Теперь таблица готова к дальнейшему изучению: ненужные пропуски удалены, но при этом сохранены важные данные.\n",
        "Пропуски в данных появляются разными путями. Например, пользователь не указал о себе какие-нибудь сведения или автоматизированная система сбора информации дала сбой. Иногда пропуски оставляют умышленно, рассчитывая на автозаполнение спецсимволами.\n",
        "\n",
        "\n",
        "Давайте разберёмся с пропущенными значениями в данных для задачи Яндекс.Музыки.\n",
        "\n",
        "# Задача\n",
        "\n",
        "1.Просмотрите информацию о наборе данных: воспользуйтесь методом info().\n",
        "\n",
        "2. Посчитайте количество пропущенных значений и выведите его на экран.\n",
        "\n",
        "3. Для решения поставленной менеджером задачи важно сохранить содержание столбца 'genre_name'. Если по какой-то причине имя исполнителя и название трека оказались упущены, а жанр композиции известен, эту строку надо сберечь.\n",
        "Заполните отсутствующие значения столбца 'track_name' строкой 'unknown'.\n",
        "\n",
        "4. Заполните отсутствующие значения столбца 'artist_name' словом unknown.\n",
        "\n",
        "5. Удалите пропущенные значения из столбца 'genre_name'.\n",
        "\n",
        "6. Проверьте полученный результат. Просмотрите информацию о наборе данных: воспользуйтесь методом info().\n",
        "\n"
      ]
    },
    {
      "cell_type": "markdown",
      "metadata": {
        "id": "1PEAa8ELMbQM"
      },
      "source": [
        "## Обработка дубликатов\n",
        "\n",
        "Когда мы говорим о дубликатах (дублированных записях), то представляем себе две одинаковых строки с идентичной информацией. Действительно, это дубликаты, и мы ещё разберём, как от них избавляться.\n",
        "\n",
        "\n",
        "Но бывают и менее явные дубликаты: скажем, две якобы разные категории публикаций. К примеру, «Политика» и «Политическая ситуация». При агрегировании данных эти две категории будут отражены как разные подмножества набора данных, хотя на самом деле все публикации о политике нужно объединить в одну категорию. При всех возможностях Pandas важно изучать данные глазами и обдумывать их. Иначе вас ожидает масса неприятных сюрпризов.\n",
        "\n",
        "\n",
        "Помимо вредного влияния дубликатов на результат, их наличие затягивает процесс анализа. Большое количество повторов неоправданно раздувает размер таблицы, а значит, увеличивает время обработки данных.\n",
        "Грубые дубликаты — повторы — обнаруживают методом **duplicated()**. Он возвращает **Series** со значением **True** при наличии дубликатов, и **False**, когда их нет.\n",
        "\n",
        "**print(df.duplicated())**\n",
        "\n",
        "Чтобы посчитать количество дубликатов в наборе данных, нужно вызвать метод **sum()**:\n",
        "\n",
        "**print(df.duplicated().sum())**\n",
        "\n",
        "Для удаления дубликатов есть метод **drop_duplicates()**:\n",
        "\n",
        "**df.drop_duplicates(inplace = True)**\n",
        "\n",
        "При вызове метода **drop_duplicates()** вместе с повторяющимися строками удаляются их индексы.\n",
        "\n",
        "Последовательность индексов нарушается: после 0 следует 2 и т.д.\n",
        "\n",
        "Поэтому вызов **drop_duplicates()** соединяют в цепочку с вызовом метода **reset_index()**. Тогда создаётся новый **DataFrame**, где старые индексы превращаются в обычный столбец под названием **index**, а индексы всех строк снова следуют в естественном порядке.\n",
        "Если же мы не хотим создавать новый столбец **index**, то при вызове **reset_index()** передаётся аргумент **drop** со значением **True**. Все индексы переписываются в порядке возрастания, без пропусков.\n",
        "\n",
        "![image.png](attachment:image.png)\n",
        "\n"
      ]
    },
    {
      "cell_type": "markdown",
      "metadata": {
        "id": "1__Xo_O9MbQM"
      },
      "source": [
        "Дубликаты в названиях категорий отследить сложнее, но всё-таки можно. Для просмотра всех уникальных значений в столбце используется метод **unique()**.\n",
        "\n",
        "Рассмотрим таблицу с рейтингом первой ракетки мира.\n",
        "\n",
        "\n",
        "\n"
      ]
    },
    {
      "cell_type": "code",
      "execution_count": null,
      "metadata": {
        "id": "_cL8vBHzMbQM",
        "outputId": "9c0a0166-cde0-47fc-b59a-5a6887585ccf"
      },
      "outputs": [
        {
          "name": "stdout",
          "output_type": "stream",
          "text": [
            "          date            name  points\n",
            "0   2018.01.01  Рафаэль Надаль   10645\n",
            "1   2018.01.08  Рафаэль Надаль   10600\n",
            "2   2018.01.29  Рафаэль Надаль    9760\n",
            "3   2018.02.19  Роджер Федерер   10105\n",
            "4   2018.03.05  Роджер Федерер   10060\n",
            "5   2018.03.19  Роджер Федерер    9660\n",
            "6   2018.04.02  Рафаэль Надаль    8770\n",
            "7   2018.06.18   Roger Federer    8920\n",
            "8   2018.06.25  Рафаэль Надаль    8770\n",
            "9   2018.07.16  Рафаэль Надаль    9310\n",
            "10  2018.08.13  Рафаэль Надаль   10220\n",
            "11  2018.08.20  Рафаэль Надаль   10040\n",
            "12  2018.09.10  Рафаэль Надаль    8760\n",
            "13  2018.10.08  Рафаэль Надаль    8260\n",
            "14  2018.10.15  Рафаэль Надаль    7660\n",
            "15  2018.11.05  Новак Джокович    8045\n",
            "16  2018.11.19  Новак Джокович    9045\n"
          ]
        }
      ],
      "source": [
        "rating = ['date','name','points']\n",
        "players = [\n",
        "['2018.01.01',    'Рафаэль Надаль',10645],\n",
        "['2018.01.08',    'Рафаэль Надаль',    10600],\n",
        "['2018.01.29',    'Рафаэль Надаль',    9760],\n",
        "['2018.02.19',    'Роджер Федерер',    10105],\n",
        "['2018.03.05',    'Роджер Федерер',    10060],\n",
        "['2018.03.19',    'Роджер Федерер',    9660],\n",
        "['2018.04.02',    'Рафаэль Надаль',    8770],\n",
        "['2018.06.18',    'Roger Federer',    8920],\n",
        "['2018.06.25',    'Рафаэль Надаль',    8770],\n",
        "['2018.07.16',    'Рафаэль Надаль',    9310],\n",
        "['2018.08.13',    'Рафаэль Надаль',    10220],\n",
        "['2018.08.20',    'Рафаэль Надаль',    10040],\n",
        "['2018.09.10',    'Рафаэль Надаль',    8760],\n",
        "['2018.10.08',    'Рафаэль Надаль',    8260],\n",
        "['2018.10.15',    'Рафаэль Надаль',    7660],\n",
        "['2018.11.05',    'Новак Джокович',    8045],\n",
        "['2018.11.19',    'Новак Джокович',    9045]\n",
        "]\n",
        "tennis = pd.DataFrame(data = players, columns= rating)\n",
        "print(tennis)\n"
      ]
    },
    {
      "cell_type": "markdown",
      "metadata": {
        "id": "taUrSbghMbQN"
      },
      "source": [
        "В 2018 году рейтинг первой ракетки мира по версии ATP обновлялся 17 раз. Но спортсменов с самым большим в мире профессионального тенниса рейтингом гораздо меньше. Если применить ко второму столбцу метод **unique()**, возвращаются только три имени."
      ]
    },
    {
      "cell_type": "code",
      "execution_count": null,
      "metadata": {
        "id": "8bFDOrDWMbQN",
        "outputId": "74f3f218-877c-4674-a357-09c29970002e"
      },
      "outputs": [
        {
          "name": "stdout",
          "output_type": "stream",
          "text": [
            "['Рафаэль Надаль' 'Роджер Федерер' 'Roger Federer' 'Новак Джокович']\n"
          ]
        }
      ],
      "source": [
        "print(tennis['name'].unique())"
      ]
    },
    {
      "cell_type": "markdown",
      "metadata": {
        "id": "7XxKktPeMbQN"
      },
      "source": [
        "Кроме имени Роджера Федерера на русском языке, вернулось его же имя латиницей. Это тоже дубликат. Нужно заменить этот артефакт правильным именем на русском языке.\n",
        "Такие задачи решает метод **replace()**, где первый аргумент — текущее значение, а второй — новое, нужное.\n"
      ]
    },
    {
      "cell_type": "code",
      "execution_count": null,
      "metadata": {
        "id": "L6qQhQTaMbQO",
        "outputId": "a51ab5ed-757d-468d-e302-baddbfa2d6fe"
      },
      "outputs": [
        {
          "name": "stdout",
          "output_type": "stream",
          "text": [
            "0     Рафаэль Надаль\n",
            "1     Рафаэль Надаль\n",
            "2     Рафаэль Надаль\n",
            "3     Роджер Федерер\n",
            "4     Роджер Федерер\n",
            "5     Роджер Федерер\n",
            "6     Рафаэль Надаль\n",
            "7     Роджер Федерер\n",
            "8     Рафаэль Надаль\n",
            "9     Рафаэль Надаль\n",
            "10    Рафаэль Надаль\n",
            "11    Рафаэль Надаль\n",
            "12    Рафаэль Надаль\n",
            "13    Рафаэль Надаль\n",
            "14    Рафаэль Надаль\n",
            "15    Новак Джокович\n",
            "16    Новак Джокович\n",
            "Name: name, dtype: object\n"
          ]
        }
      ],
      "source": [
        "tennis['name'] = tennis['name'].replace('Roger Federer', 'Роджер Федерер')\n",
        "print(tennis['name'])"
      ]
    },
    {
      "cell_type": "markdown",
      "metadata": {
        "id": "JzgpJ03HMbQO"
      },
      "source": [
        "Теперь всё хорошо. Настало время разобраться с дубликатами в таблице данных Яндекс.Музыки.\n",
        "# Задача  \n",
        "\n",
        "1.Сохраните текущий размер таблицы в переменной shape_table.\n",
        "\n",
        "2. Посчитайте и выведите на экран суммарное количество дубликатов в таблице.\n",
        "\n",
        "3. Удалите дубликаты. Используйте метод reset_index() для сохранения порядка индексов.\n",
        "\n",
        "4. Сохраните в переменную shape_table_update размер таблицы после удаления дубликатов.\n",
        "\n",
        "5. Сравните переменные shape_table и shape_table_update. Если они равны, выведите сообщение 'Размер таблицы не изменился, текущий размер: ' и значение переменной shape_table_update.\n",
        "\n",
        "6. Получите уникальные значения столбца 'genre_name', используйте метод unique(). Просмотрите результат и найдите название жанра, которое выпадает из общего ряда.\n",
        "\n",
        "7. В столбце 'genre_name' замените значение 'электроника' на 'electronic' .\n",
        "\n",
        "8. Оцените изменения: пересчитайте количество значений 'электроника' в столбце 'genre_name'. Если удалось всё заменить, результат должен быть равен 0. Сохраните этот результат в переменной genre_final_count, выведите на экран.\n",
        "\n"
      ]
    },
    {
      "cell_type": "code",
      "execution_count": null,
      "metadata": {
        "id": "SCpLfvzeMbQP"
      },
      "outputs": [],
      "source": [
        "#Youre code is here"
      ]
    }
  ],
  "metadata": {
    "kernelspec": {
      "display_name": "Python 3 (ipykernel)",
      "language": "python",
      "name": "python3"
    },
    "language_info": {
      "codemirror_mode": {
        "name": "ipython",
        "version": 3
      },
      "file_extension": ".py",
      "mimetype": "text/x-python",
      "name": "python",
      "nbconvert_exporter": "python",
      "pygments_lexer": "ipython3",
      "version": "3.9.12"
    },
    "colab": {
      "provenance": [],
      "include_colab_link": true
    }
  },
  "nbformat": 4,
  "nbformat_minor": 0
}